{
 "cells": [
  {
   "cell_type": "markdown",
   "metadata": {},
   "source": [
    "## Result Reproduction\n",
    "\n",
    "This file includes codes for result reproduction.\n",
    "\n",
    "In this file you can reproduce the result for FGSM untargeted and targeted Attack.\n",
    "\n",
    "You can:\n",
    "\n",
    "* Input Epsilon\n",
    "* Check Accuracy and Attack Success Rate\n",
    "* Save perturb images to file\n",
    "\n",
    "### Please Run Each Cell one after another.\n",
    "### Don't interrupt the kernel. If have to interrupt, restart and clean output for both notebooks."
   ]
  },
  {
   "cell_type": "markdown",
   "metadata": {},
   "source": [
    "### First, set the initiations of the model."
   ]
  },
  {
   "cell_type": "code",
   "execution_count": 1,
   "metadata": {},
   "outputs": [
    {
     "name": "stdout",
     "output_type": "stream",
     "text": [
      "Extracting /tmp/data/train-images-idx3-ubyte.gz\n",
      "Extracting /tmp/data/train-labels-idx1-ubyte.gz\n",
      "Extracting /tmp/data/t10k-images-idx3-ubyte.gz\n",
      "Extracting /tmp/data/t10k-labels-idx1-ubyte.gz\n"
     ]
    }
   ],
   "source": [
    "import tensorflow as tf\n",
    "import numpy as np\n",
    "import matplotlib.pyplot as plt\n",
    "import os\n",
    "\n",
    "# Import MNIST data\n",
    "from tensorflow.examples.tutorials.mnist import input_data\n",
    "mnist = input_data.read_data_sets(\"/tmp/data/\", one_hot=True)\n",
    "\n",
    "# Parameters\n",
    "learning_rate = 0.001\n",
    "training_epochs = 20\n",
    "batch_size = 100\n",
    "display_step = 1\n",
    "\n",
    "# tf Graph Input\n",
    "x = tf.placeholder(tf.float32, [None, 784]) # mnist data image of shape 28*28=784\n",
    "y = tf.placeholder(tf.float32, [None, 10]) # 0-9 digits recognition => 10 classes\n",
    "\n",
    "# Set model weights\n",
    "W1 = tf.Variable(tf.random_normal([784, 300], mean=0, stddev=1))\n",
    "b1 = tf.Variable(tf.random_normal([300], mean=0, stddev = 1))\n",
    "\n",
    "W3 = tf.Variable(tf.zeros([300, 10]))\n",
    "b3 = tf.Variable(tf.zeros([10]))\n",
    "\n",
    "#y_pred = tf.Variable(np.arange(3000), dtype=tf.float32, name=\"prediction\")\n",
    "\n",
    "# Construct model\n",
    "\n",
    "hidden1 = tf.nn.relu(tf.matmul(x, W1) + b1); #first hidden layer\n",
    "\n",
    "#hidden2 = tf.nn.relu(tf.matmul(hidden1, W2) + b2); #second hidden layer\n",
    "\n",
    "pred = tf.nn.softmax(tf.matmul(hidden1, W3) + b3) # Softmax layer outputs prediction probabilities\n",
    "\n",
    "# Minimize error using cross entropy \n",
    "cost = tf.reduce_mean(-tf.reduce_sum(y*tf.log(pred), reduction_indices=1))\n",
    "\n",
    "optimizer = tf.train.GradientDescentOptimizer(learning_rate).minimize(cost)\n",
    "\n",
    "saver = tf.train.Saver()  \n",
    "\n",
    "xts = mnist.test.images\n",
    "yts = mnist.test.labels"
   ]
  },
  {
   "cell_type": "markdown",
   "metadata": {},
   "source": [
    "### 2 functions are defined to calculate success rate and save image"
   ]
  },
  {
   "cell_type": "code",
   "execution_count": 2,
   "metadata": {},
   "outputs": [],
   "source": [
    "def attack_success_rate(xts, xts_new, yts, target):\n",
    "    \n",
    "    # Result of old test data\n",
    "    prediction_old = tf.argmax(pred,1)\n",
    "    prediction_old = prediction_old.eval({x: xts})    \n",
    "    \n",
    "    correct_prediction = tf.equal(prediction_old, tf.argmax(yts, 1))\n",
    "    correct_prediction = correct_prediction.eval({x: xts})\n",
    "        \n",
    "    # Because we are only looking for sussessful rate\n",
    "    correct_prediction_index = np.where(correct_prediction)\n",
    "        \n",
    "    xts_correct = xts_new[correct_prediction_index,:]\n",
    "    xts_correct = xts_correct[0,:,:]\n",
    "        \n",
    "    correct_prediction = correct_prediction[correct_prediction_index]\n",
    "    prediction_old = prediction_old[correct_prediction_index]\n",
    "        \n",
    "    # Result of new test data\n",
    "    prediction_new = tf.argmax(pred,1)\n",
    "    prediction_new = prediction_new.eval({x:xts_correct})\n",
    "    \n",
    "    if target==None:\n",
    "        \n",
    "        # Find out which index of correct_predictions are changed after perturb\n",
    "        attack_success_index = np.not_equal(prediction_old, prediction_new)\n",
    "        \n",
    "    if target==True:\n",
    "        \n",
    "        yts_shift = np.roll(yts, 1, axis = 1)\n",
    "        yts_target = yts_shift[correct_prediction_index,:]\n",
    "        prediction_target = np.argmax(yts_target,2)\n",
    "        \n",
    "        # Find out which index of correct_predictions are changed to (i+1)%10 after perturb\n",
    "        attack_success_index = np.equal(prediction_target, prediction_new)\n",
    "        \n",
    "    # Calculaye attack ratio\n",
    "    attack_success_no = np.count_nonzero(attack_success_index)\n",
    "    correct_prediction_no = np.count_nonzero(correct_prediction)\n",
    "       \n",
    "    attack_success_rate = attack_success_no/correct_prediction_no\n",
    "    \n",
    "    return attack_success_rate"
   ]
  },
  {
   "cell_type": "code",
   "execution_count": 3,
   "metadata": {},
   "outputs": [],
   "source": [
    "def image_save(path, xts_adv):\n",
    "    \n",
    "    for i in range(xts_adv.shape[0]):\n",
    "        image_name = str(str('./')+str(path)+str('/adv_')+str(i)+str('.png'))\n",
    "        nrow = 28\n",
    "        ncol = 28\n",
    "        xsq = xts_adv[i,None].reshape((nrow,ncol))\n",
    "    \n",
    "        plt.imsave(image_name, xsq)\n",
    "        \n",
    "    print('Images Saved in', str('./')+str(path))"
   ]
  },
  {
   "cell_type": "markdown",
   "metadata": {},
   "source": [
    "## FGSM Based Untargeted Attack\n",
    "\n",
    "### Please Run Each Cell one after another."
   ]
  },
  {
   "cell_type": "code",
   "execution_count": 4,
   "metadata": {
    "scrolled": true
   },
   "outputs": [
    {
     "name": "stdout",
     "output_type": "stream",
     "text": [
      "Input Epsilon = 25.1\n"
     ]
    }
   ],
   "source": [
    "# Enter epsilon here, then click 'Enter'.\n",
    "# Run next cell after click 'Enter'\n",
    "\n",
    "epsilon = float(input('Input Epsilon = '))"
   ]
  },
  {
   "cell_type": "code",
   "execution_count": 5,
   "metadata": {},
   "outputs": [
    {
     "name": "stdout",
     "output_type": "stream",
     "text": [
      "INFO:tensorflow:Restoring parameters from temp/trained_model.ckpt\n",
      "\n",
      "FGSM Untargeted Attack!\n",
      "\n",
      "Epsilon: 25.1\n",
      "\n",
      "Accuracy: 0.0009\n",
      "\n",
      "Attack success rate 0.9990335051546392\n",
      "Images Saved in ./ADV_image_untarget\n"
     ]
    }
   ],
   "source": [
    "with tf.Session() as sess:\n",
    "    \n",
    "    sess.run(tf.global_variables_initializer())\n",
    "    \n",
    "    if os.path.exists('temp/checkpoint'): \n",
    "        saver.restore(sess, 'temp/trained_model.ckpt')\n",
    "    \n",
    "    # FGSM Attack\n",
    "    print(\"\\nFGSM Untargeted Attack!\")\n",
    "  \n",
    "    print (\"\\nEpsilon:\", epsilon)\n",
    "    epsilon = float(epsilon /256)\n",
    "        \n",
    "    # Test model\n",
    "    correct_prediction = tf.equal(tf.argmax(pred, 1), tf.argmax(y, 1))\n",
    "    \n",
    "    # Calculate accuracy for 3000 examples; you should get roughly ~90% accuracy although it might vary from run to run\n",
    "    accuracy = tf.reduce_mean(tf.cast(correct_prediction, tf.float32))\n",
    "        \n",
    "    # Generate new test dataset\n",
    "    grad = tf.gradients(xs = x,\n",
    "                        ys = cost)\n",
    "    xts_new = tf.clip_by_value(x + epsilon*tf.sign(grad),0,1)\n",
    "    xts_new, _ = sess.run([xts_new , cost], feed_dict={x: xts, y: yts})\n",
    "    xts_new = xts_new[0,:,:]\n",
    "         \n",
    "    correct_prediction = tf.equal(tf.argmax(pred, 1), tf.argmax(y, 1))\n",
    "    accuracy = tf.reduce_mean(tf.cast(correct_prediction, tf.float32))\n",
    "    print (\"\\nAccuracy:\", \n",
    "            accuracy.eval({x: xts_new, \n",
    "                        y: yts},\n",
    "                        session=sess))\n",
    "        \n",
    "    rate = attack_success_rate(xts, xts_new, yts, None)   \n",
    "    print (\"\\nAttack success rate\",\n",
    "            rate)\n",
    "        \n",
    "    image_save('ADV_image_untarget', xts_new)"
   ]
  },
  {
   "cell_type": "markdown",
   "metadata": {},
   "source": [
    "## FGSM Based Targeted Attack\n",
    "\n",
    "### Please Run Each Cell one after another."
   ]
  },
  {
   "cell_type": "code",
   "execution_count": 8,
   "metadata": {},
   "outputs": [
    {
     "name": "stdout",
     "output_type": "stream",
     "text": [
      "Input Epsilon = 12.88\n"
     ]
    }
   ],
   "source": [
    "# Enter epsilon here, then click 'Enter'.\n",
    "# Run next cell after click 'Enter'\n",
    "\n",
    "epsilon = float(input('Input Epsilon = '))"
   ]
  },
  {
   "cell_type": "code",
   "execution_count": 9,
   "metadata": {},
   "outputs": [
    {
     "name": "stdout",
     "output_type": "stream",
     "text": [
      "INFO:tensorflow:Restoring parameters from temp/trained_model.ckpt\n",
      "\n",
      "FGSM Targeted Attack!\n",
      "\n",
      "Epsilon: 12.88\n",
      "\n",
      "Result for first-10 images:\n",
      "[7 2 1 0 4 1 4 9 5 9]\n",
      "[7 3 2 0 5 2 5 5 6 7]\n",
      "\n",
      "Attack success rate 0.42794243986254293\n",
      "Images Saved in ./ADV_image_target\n"
     ]
    }
   ],
   "source": [
    "yts_shift = np.roll(yts, 1, axis = 1)\n",
    "\n",
    "with tf.Session() as sess:\n",
    "    \n",
    "    sess.run(tf.global_variables_initializer())\n",
    "    \n",
    "    if os.path.exists('temp/checkpoint'): \n",
    "        saver.restore(sess, 'temp/trained_model.ckpt')\n",
    "    \n",
    "    # FGSM Attack\n",
    "    print(\"\\nFGSM Targeted Attack!\")\n",
    "\n",
    "    print (\"\\nEpsilon:\", epsilon)\n",
    "    eps = float((epsilon)/256)\n",
    "        \n",
    "    # Generate new test dataset\n",
    "    grad = tf.gradients(xs = x,\n",
    "                        ys = cost)\n",
    "        \n",
    "    # Targeted Attack\n",
    "    xts_new = tf.clip_by_value(x - eps*tf.sign(grad),0,1)\n",
    "    xts_new, _ = sess.run([xts_new , cost], feed_dict={x: xts, y: yts_shift})\n",
    "    xts_new = xts_new[0,:,:]\n",
    "        \n",
    "    # Test model\n",
    "    correct_prediction = tf.equal(tf.argmax(pred, 1), tf.argmax(y, 1))\n",
    "    accuracy = tf.reduce_mean(tf.cast(correct_prediction, tf.float32))\n",
    "    \n",
    "    prediction = tf.argmax(pred,1)\n",
    "    prediction = prediction.eval({x:xts_new})\n",
    "    \n",
    "    print('\\nResult for first-10 images:')\n",
    "    print(np.argmax(yts[:10],1))\n",
    "    print(prediction[:10])\n",
    "        \n",
    "    rate = attack_success_rate(xts, xts_new, yts, True)\n",
    "    print(\"\\nAttack success rate\",rate)\n",
    "        \n",
    "    image_save('ADV_image_target', xts_new)"
   ]
  },
  {
   "cell_type": "code",
   "execution_count": null,
   "metadata": {},
   "outputs": [],
   "source": []
  }
 ],
 "metadata": {
  "kernelspec": {
   "display_name": "Python 3",
   "language": "python",
   "name": "python3"
  },
  "language_info": {
   "codemirror_mode": {
    "name": "ipython",
    "version": 3
   },
   "file_extension": ".py",
   "mimetype": "text/x-python",
   "name": "python",
   "nbconvert_exporter": "python",
   "pygments_lexer": "ipython3",
   "version": "3.6.1"
  }
 },
 "nbformat": 4,
 "nbformat_minor": 2
}
