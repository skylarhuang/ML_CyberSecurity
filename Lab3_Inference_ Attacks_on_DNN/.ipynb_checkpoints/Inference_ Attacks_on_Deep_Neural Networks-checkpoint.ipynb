{
 "cells": [
  {
   "cell_type": "markdown",
   "metadata": {},
   "source": [
    "## Lab 3: Inference Attacks on Deep Neural Networks"
   ]
  },
  {
   "cell_type": "code",
   "execution_count": 1,
   "metadata": {},
   "outputs": [
    {
     "name": "stdout",
     "output_type": "stream",
     "text": [
      "Extracting /tmp/data/train-images-idx3-ubyte.gz\n",
      "Extracting /tmp/data/train-labels-idx1-ubyte.gz\n",
      "Extracting /tmp/data/t10k-images-idx3-ubyte.gz\n",
      "Extracting /tmp/data/t10k-labels-idx1-ubyte.gz\n"
     ]
    }
   ],
   "source": [
    "import tensorflow as tf\n",
    "import numpy as np\n",
    "import os\n",
    "\n",
    "# Import MNIST data\n",
    "from tensorflow.examples.tutorials.mnist import input_data\n",
    "mnist = input_data.read_data_sets(\"/tmp/data/\", one_hot=True)\n",
    "\n",
    "# Parameters\n",
    "learning_rate = 0.001\n",
    "training_epochs = 20\n",
    "batch_size = 100\n",
    "display_step = 1"
   ]
  },
  {
   "cell_type": "code",
   "execution_count": 2,
   "metadata": {},
   "outputs": [],
   "source": [
    "# tf Graph Input\n",
    "x = tf.placeholder(tf.float32, [None, 784]) # mnist data image of shape 28*28=784\n",
    "y = tf.placeholder(tf.float32, [None, 10]) # 0-9 digits recognition => 10 classes\n",
    "\n",
    "# Set model weights\n",
    "W1 = tf.Variable(tf.random_normal([784, 300], mean=0, stddev=1))\n",
    "b1 = tf.Variable(tf.random_normal([300], mean=0, stddev = 1))\n",
    "\n",
    "W3 = tf.Variable(tf.zeros([300, 10]))\n",
    "b3 = tf.Variable(tf.zeros([10]))\n",
    "\n",
    "#y_pred = tf.Variable(np.arange(3000), dtype=tf.float32, name=\"prediction\")\n",
    "\n",
    "# Construct model\n",
    "\n",
    "hidden1 = tf.nn.relu(tf.matmul(x, W1) + b1); #first hidden layer\n",
    "\n",
    "#hidden2 = tf.nn.relu(tf.matmul(hidden1, W2) + b2); #second hidden layer\n",
    "\n",
    "# Modified Logits\n",
    "\n",
    "pred = tf.nn.softmax(tf.matmul(hidden1, W3) + b3) # Softmax layer outputs prediction probabilities\n",
    "\n",
    "# Minimize error using cross entropy \n",
    "cost = tf.reduce_mean(-tf.reduce_sum(y*tf.log(pred), reduction_indices=1))\n",
    "\n",
    "optimizer = tf.train.GradientDescentOptimizer(learning_rate).minimize(cost)\n",
    "\n",
    "saver = tf.train.Saver()  "
   ]
  },
  {
   "cell_type": "code",
   "execution_count": 3,
   "metadata": {},
   "outputs": [
    {
     "name": "stdout",
     "output_type": "stream",
     "text": [
      "Epoch: 0001 cost= 0.564010518\n",
      "Epoch: 0002 cost= 0.372662428\n",
      "Epoch: 0003 cost= 0.336998213\n",
      "Epoch: 0004 cost= 0.316684658\n",
      "Epoch: 0005 cost= 0.303565601\n",
      "Epoch: 0006 cost= 0.292815543\n",
      "Epoch: 0007 cost= 0.285030396\n",
      "Epoch: 0008 cost= 0.277760586\n",
      "Epoch: 0009 cost= 0.272797296\n",
      "Epoch: 0010 cost= 0.267851517\n",
      "Epoch: 0011 cost= 0.263546138\n",
      "Epoch: 0012 cost= 0.260436892\n",
      "Epoch: 0013 cost= 0.256501246\n",
      "Epoch: 0014 cost= 0.253624473\n",
      "Epoch: 0015 cost= 0.251169117\n",
      "Epoch: 0016 cost= 0.248718322\n",
      "Epoch: 0017 cost= 0.246401358\n",
      "Epoch: 0018 cost= 0.244299226\n",
      "Epoch: 0019 cost= 0.242528815\n",
      "Epoch: 0020 cost= 0.240772912\n",
      "Optimization Finished!\n",
      "Accuracy: 0.915\n",
      "Model saved!\n"
     ]
    }
   ],
   "source": [
    "# Start training\n",
    "with tf.Session() as sess:\n",
    "    sess.run(tf.global_variables_initializer())\n",
    "\n",
    "    # Training cycle\n",
    "    for epoch in range(training_epochs):\n",
    "        avg_cost = 0.\n",
    "        total_batch = int(mnist.train.num_examples/batch_size)\n",
    "        # Loop over all batches\n",
    "        for i in range(total_batch):\n",
    "            batch_xs, batch_ys = mnist.train.next_batch(batch_size)\n",
    "            # Fit training using batch data\n",
    "            _, c = sess.run([optimizer, cost], feed_dict={x: batch_xs, y: batch_ys})\n",
    "            \n",
    "#             print(__w)\n",
    "            \n",
    "            # Compute average loss\n",
    "            avg_cost += c / total_batch\n",
    "        # Display logs per epoch step\n",
    "        if (epoch+1) % display_step == 0:\n",
    "#             print(sess.run(W))\n",
    "            print (\"Epoch:\", '%04d' % (epoch+1), \"cost=\", \"{:.9f}\".format(avg_cost))\n",
    "\n",
    "    print (\"Optimization Finished!\")\n",
    "\n",
    "    # Test model\n",
    "    correct_prediction = tf.equal(tf.argmax(pred, 1), tf.argmax(y, 1))\n",
    "    # Calculate accuracy for 3000 examples; you should get roughly ~90% accuracy although it might vary from run to run\n",
    "    accuracy = tf.reduce_mean(tf.cast(correct_prediction, tf.float32))\n",
    "    print (\"Accuracy:\", \n",
    "           accuracy.eval({x: mnist.test.images[:3000], \n",
    "                          y: mnist.test.labels[:3000]},\n",
    "                         session=sess))\n",
    "    \n",
    "    #Save the model\n",
    "    saver.save(sess, './temp/trained_model.ckpt')\n",
    "    print(\"Model saved!\")"
   ]
  },
  {
   "cell_type": "markdown",
   "metadata": {},
   "source": [
    "## Put data into variables"
   ]
  },
  {
   "cell_type": "code",
   "execution_count": 4,
   "metadata": {},
   "outputs": [],
   "source": [
    "xtr = mnist.train.images\n",
    "ytr = mnist.train.labels\n",
    "\n",
    "xts = mnist.test.images\n",
    "yts = mnist.test.labels"
   ]
  },
  {
   "cell_type": "markdown",
   "metadata": {},
   "source": [
    "## Help functions used to generate y(label) and x(initial image)\n",
    "\n",
    "y is generated by label.\n",
    "\n",
    "x can be selected from 'random', 'allmean' and 'classmean' to satisfied requirements of Q1-Q3. Argument l indicates the label, only used by Q3."
   ]
  },
  {
   "cell_type": "code",
   "execution_count": 5,
   "metadata": {},
   "outputs": [],
   "source": [
    "def generate_y(i):\n",
    "    y_gen = np.zeros(10)\n",
    "    y_gen[i]= 1\n",
    "    return y_gen\n",
    "\n",
    "def generate_x(l, img_type):\n",
    "    \n",
    "    if img_type == 'random':\n",
    "        gen_image = np.random.uniform(0,255,(28,28))\n",
    "        gen_image = gen_image/255\n",
    "        \n",
    "    elif img_type == 'allmean':\n",
    "        gen_image = np.mean(xtr, axis=0)\n",
    "        gen_image = gen_image.reshape(28,28)\n",
    "    \n",
    "    elif img_type == 'classmean':\n",
    "        gen_image = xtr[ytr[:,l]==[1]]\n",
    "        gen_image  = np.mean(gen_image, axis=0)\n",
    "        gen_image = gen_image.reshape(28,28)\n",
    "    \n",
    "    else:\n",
    "        print('Cant Find Correct Image!')\n",
    "    \n",
    "    return gen_image"
   ]
  },
  {
   "cell_type": "markdown",
   "metadata": {},
   "source": [
    "## Use euclidean distances to find closest picture in training set.\n",
    "\n",
    "RMSE = sqrt((euclidean_distance)^2/n) <- n=784\n",
    "\n",
    "return rmse value & the closest image"
   ]
  },
  {
   "cell_type": "code",
   "execution_count": 6,
   "metadata": {},
   "outputs": [],
   "source": [
    "from scipy.spatial.distance import cdist\n",
    "from math import sqrt\n",
    "\n",
    "def smallest_rmse(image_new):\n",
    "    image_new = image_new.reshape(1,784) \n",
    "\n",
    "    distance = cdist(xtr,image_new,'euclidean')\n",
    "\n",
    "    closest_ind = np.argmin(distance)\n",
    "    closest_dis = distance[closest_ind]\n",
    "    rmse = sqrt((closest_dis)**2/784)\n",
    "\n",
    "    closest_img = xtr[closest_ind]\n",
    "    closest_img = closest_img.reshape(28,28)\n",
    "    \n",
    "    return rmse, closest_img   "
   ]
  },
  {
   "cell_type": "markdown",
   "metadata": {},
   "source": [
    "## Function to optimized and update the image.\n",
    "\n",
    "### Iteration stops when the probability of image being classified as a selected label i no longer increases."
   ]
  },
  {
   "cell_type": "markdown",
   "metadata": {},
   "source": [
    "## Help functins to evaluate the result\n",
    "\n",
    "plot_image: plot closest image for each label\n",
    "\n",
    "result_eva: print mean rmse and plot closest images"
   ]
  },
  {
   "cell_type": "code",
   "execution_count": 8,
   "metadata": {},
   "outputs": [],
   "source": [
    "def plot_image(images):\n",
    "    plt.figure(1)\n",
    "    for i in range(10):\n",
    "        image_plot = images[i]\n",
    "        image_reshape = image_plot.reshape((28,28))\n",
    "\n",
    "        plt.subplot(1,10,i+1)\n",
    "        plt.title(str(i))\n",
    "        plt.imshow(image_reshape, cmap='gray', interpolation='nearest')\n",
    "        plt.axis('off')\n",
    "    plt.show() \n",
    "    \n",
    "def result_eva(rmse_by_label, image_nearest, image_recovered):\n",
    "    \n",
    "    rmse_by_label_float = [ '%.2f' % elem for elem in rmse_by_label ]\n",
    "    print('Image recovered for each label: ')\n",
    "    plot_image(image_recovered)   \n",
    "    \n",
    "    print('RMSE for each recovered image:')\n",
    "    print(rmse_by_label_float)\n",
    "    \n",
    "    print('\\nFinal error: ', np.mean(rmse_by_label))"
   ]
  },
  {
   "cell_type": "markdown",
   "metadata": {},
   "source": [
    "## 1.\tAM with Random Initialization:"
   ]
  },
  {
   "cell_type": "code",
   "execution_count": 9,
   "metadata": {},
   "outputs": [
    {
     "name": "stdout",
     "output_type": "stream",
     "text": [
      "INFO:tensorflow:Restoring parameters from temp/trained_model.ckpt\n",
      "Label:  0    Iteration count:  1 \n",
      "Initial prediction:  [0]    Final prediction:  [0] \n",
      "Initial probablity of target label:  [ 0.52610481]    Final probablity of target label:  [ 1.]\n",
      "\n",
      "Label:  1    Iteration count:  1 \n",
      "Initial prediction:  [2]    Final prediction:  [1] \n",
      "Initial probablity of target label:  [  6.52892993e-08]    Final probablity of target label:  [ 0.99991024]\n",
      "\n",
      "Label:  2    Iteration count:  1 \n",
      "Initial prediction:  [5]    Final prediction:  [2] \n",
      "Initial probablity of target label:  [ 0.00416121]    Final probablity of target label:  [ 0.99999988]\n",
      "\n",
      "Label:  3    Iteration count:  1 \n",
      "Initial prediction:  [5]    Final prediction:  [3] \n",
      "Initial probablity of target label:  [ 0.00030652]    Final probablity of target label:  [ 0.9999975]\n",
      "\n",
      "Label:  4    Iteration count:  1 \n",
      "Initial prediction:  [5]    Final prediction:  [4] \n",
      "Initial probablity of target label:  [  9.33035764e-08]    Final probablity of target label:  [ 0.99999821]\n",
      "\n",
      "Label:  5    Iteration count:  1 \n",
      "Initial prediction:  [5]    Final prediction:  [5] \n",
      "Initial probablity of target label:  [ 0.86698419]    Final probablity of target label:  [ 1.]\n",
      "\n",
      "Label:  6    Iteration count:  1 \n",
      "Initial prediction:  [5]    Final prediction:  [6] \n",
      "Initial probablity of target label:  [ 0.00135661]    Final probablity of target label:  [ 1.]\n",
      "\n",
      "Label:  7    Iteration count:  1 \n",
      "Initial prediction:  [0]    Final prediction:  [7] \n",
      "Initial probablity of target label:  [  8.20837897e-07]    Final probablity of target label:  [ 1.]\n",
      "\n",
      "Label:  8    Iteration count:  1 \n",
      "Initial prediction:  [5]    Final prediction:  [8] \n",
      "Initial probablity of target label:  [  2.48785841e-06]    Final probablity of target label:  [ 0.99986243]\n",
      "\n",
      "Label:  9    Iteration count:  1 \n",
      "Initial prediction:  [0]    Final prediction:  [9] \n",
      "Initial probablity of target label:  [  7.39266259e-10]    Final probablity of target label:  [ 0.99996972]\n",
      "\n",
      "Optimize Finished!\n"
     ]
    }
   ],
   "source": [
    "import pylab as plt\n",
    "import os\n",
    "\n",
    "image_nearest = []\n",
    "rmse_by_label = []\n",
    "image_recovered = []\n",
    "\n",
    "# Start training\n",
    "with tf.Session() as sess:\n",
    "    \n",
    "    sess.run(tf.global_variables_initializer())\n",
    "    \n",
    "    if os.path.exists('temp/checkpoint'): \n",
    "        saver.restore(sess, 'temp/trained_model.ckpt')\n",
    "\n",
    "    for j in range(10):\n",
    "        \n",
    "        # Generate a new random picture\n",
    "        image_old = generate_x(1, 'random')\n",
    "        \n",
    "        # Optimaze by gradient descent\n",
    "        image_opt = image_optimizer(image_old,j,1e-1, True)\n",
    "        \n",
    "        # Calculate rmse and find nearst image in training set\n",
    "        image_rmsei, image_closesti = smallest_rmse(image_opt)\n",
    "        \n",
    "        # Save rmse, nearst image, and recovered image\n",
    "        image_recovered.append(image_opt)\n",
    "        image_nearest.append(image_closesti)\n",
    "        rmse_by_label.append(image_rmsei)\n",
    "        print()\n",
    "    \n",
    "    print('Optimize Finished!')"
   ]
  },
  {
   "cell_type": "code",
   "execution_count": 10,
   "metadata": {},
   "outputs": [
    {
     "name": "stdout",
     "output_type": "stream",
     "text": [
      "Image recovered for each label: \n"
     ]
    },
    {
     "data": {
      "image/png": "[encoded data removed]",
      "text/plain": [
       "<matplotlib.figure.Figure at 0x19a001a6518>"
      ]
     },
     "metadata": {},
     "output_type": "display_data"
    },
    {
     "name": "stdout",
     "output_type": "stream",
     "text": [
      "RMSE for each recovered image:\n",
      "['0.63', '0.58', '0.58', '0.59', '0.58', '0.66', '0.58', '0.59', '0.57', '0.58']\n",
      "\n",
      "Final error:  0.593434440239\n"
     ]
    }
   ],
   "source": [
    "result_eva(rmse_by_label, image_nearest, image_recovered)"
   ]
  },
  {
   "cell_type": "markdown",
   "metadata": {},
   "source": [
    "## 2.\tAM with Mean Initialization"
   ]
  },
  {
   "cell_type": "code",
   "execution_count": 11,
   "metadata": {},
   "outputs": [
    {
     "name": "stdout",
     "output_type": "stream",
     "text": [
      "INFO:tensorflow:Restoring parameters from temp/trained_model.ckpt\n",
      "Label:  0    Iteration count:  1 \n",
      "Initial prediction:  [8]    Final prediction:  [0] \n",
      "Initial probablity of target label:  [ 0.04273794]    Final probablity of target label:  [ 0.50711244]\n",
      "\n",
      "Label:  1    Iteration count:  1 \n",
      "Initial prediction:  [8]    Final prediction:  [3] \n",
      "Initial probablity of target label:  [ 0.00054851]    Final probablity of target label:  [ 0.05108226]\n",
      "\n",
      "Label:  2    Iteration count:  1 \n",
      "Initial prediction:  [8]    Final prediction:  [2] \n",
      "Initial probablity of target label:  [ 0.07069931]    Final probablity of target label:  [ 0.86044371]\n",
      "\n",
      "Label:  3    Iteration count:  1 \n",
      "Initial prediction:  [8]    Final prediction:  [3] \n",
      "Initial probablity of target label:  [ 0.11457827]    Final probablity of target label:  [ 0.94368005]\n",
      "\n",
      "Label:  4    Iteration count:  1 \n",
      "Initial prediction:  [8]    Final prediction:  [4] \n",
      "Initial probablity of target label:  [ 0.01764426]    Final probablity of target label:  [ 0.68017441]\n",
      "\n",
      "Label:  5    Iteration count:  1 \n",
      "Initial prediction:  [8]    Final prediction:  [5] \n",
      "Initial probablity of target label:  [ 0.02110021]    Final probablity of target label:  [ 0.79309422]\n",
      "\n",
      "Label:  6    Iteration count:  1 \n",
      "Initial prediction:  [8]    Final prediction:  [6] \n",
      "Initial probablity of target label:  [ 0.00638831]    Final probablity of target label:  [ 0.42248881]\n",
      "\n",
      "Label:  7    Iteration count:  1 \n",
      "Initial prediction:  [8]    Final prediction:  [7] \n",
      "Initial probablity of target label:  [ 0.00533671]    Final probablity of target label:  [ 0.34661737]\n",
      "\n",
      "Label:  8    Iteration count:  1 \n",
      "Initial prediction:  [8]    Final prediction:  [8] \n",
      "Initial probablity of target label:  [ 0.68603933]    Final probablity of target label:  [ 0.99850851]\n",
      "\n",
      "Label:  9    Iteration count:  1 \n",
      "Initial prediction:  [8]    Final prediction:  [9] \n",
      "Initial probablity of target label:  [ 0.03492713]    Final probablity of target label:  [ 0.40790132]\n",
      "\n",
      "Optimize Finished!\n"
     ]
    }
   ],
   "source": [
    "image_nearest = []\n",
    "image_recovered = []\n",
    "rmse_by_label = []\n",
    "\n",
    "# Start training\n",
    "with tf.Session() as sess:\n",
    "    \n",
    "    sess.run(tf.global_variables_initializer())\n",
    "    \n",
    "    if os.path.exists('temp/checkpoint'): \n",
    "        saver.restore(sess, 'temp/trained_model.ckpt')\n",
    "        \n",
    "    # Generate init image that is the average over all training data images\n",
    "    image_old = generate_x(1, 'allmean')\n",
    "    \n",
    "    for j in range(10):\n",
    "        \n",
    "        # Optimaze by gradient descent\n",
    "        image_opt = image_optimizer(image_old,j,1e-2, True)\n",
    "        \n",
    "        # Calculate rmse and find nearst image in training set\n",
    "        image_rmsei, image_closesti = smallest_rmse(image_opt)\n",
    "        \n",
    "        # Save rmse and nearst image\n",
    "        image_recovered.append(image_opt)\n",
    "        image_nearest.append(image_closesti)\n",
    "        rmse_by_label.append(image_rmsei)\n",
    "        print()\n",
    "    \n",
    "    print('Optimize Finished!')"
   ]
  },
  {
   "cell_type": "code",
   "execution_count": 12,
   "metadata": {},
   "outputs": [
    {
     "name": "stdout",
     "output_type": "stream",
     "text": [
      "Initial image using all mean:\n"
     ]
    },
    {
     "data": {
      "image/png": "[encoded data removed]",
      "text/plain": [
       "<matplotlib.figure.Figure at 0x19a76a87630>"
      ]
     },
     "metadata": {},
     "output_type": "display_data"
    },
    {
     "name": "stdout",
     "output_type": "stream",
     "text": [
      "Image recovered for each label: \n"
     ]
    },
    {
     "data": {
      "image/png": "[encoded data removed]",
      "text/plain": [
       "<matplotlib.figure.Figure at 0x19a7696d4a8>"
      ]
     },
     "metadata": {},
     "output_type": "display_data"
    },
    {
     "name": "stdout",
     "output_type": "stream",
     "text": [
      "RMSE for each recovered image:\n",
      "['0.24', '0.23', '0.23', '0.22', '0.22', '0.23', '0.23', '0.22', '0.31', '0.23']\n",
      "\n",
      "Final error:  0.237067775917\n"
     ]
    }
   ],
   "source": [
    "print('Initial image using all mean:')\n",
    "image_old = generate_x(1, 'allmean')\n",
    "image_old = image_old.reshape(28,28) \n",
    "plt.imshow(image_old, cmap='gray')\n",
    "plt.show()   \n",
    "\n",
    "result_eva(rmse_by_label, image_nearest, image_recovered)"
   ]
  },
  {
   "cell_type": "markdown",
   "metadata": {},
   "source": [
    "## 3.\tAM with Per-Class Mean Initialization"
   ]
  },
  {
   "cell_type": "code",
   "execution_count": 13,
   "metadata": {},
   "outputs": [
    {
     "name": "stdout",
     "output_type": "stream",
     "text": [
      "INFO:tensorflow:Restoring parameters from temp/trained_model.ckpt\n",
      "Label:  0    Iteration count:  1 \n",
      "Initial prediction:  [0]    Final prediction:  [0] \n",
      "Initial probablity of target label:  [ 0.99968719]    Final probablity of target label:  [ 0.9999994]\n",
      "\n",
      "Label:  1    Iteration count:  1 \n",
      "Initial prediction:  [1]    Final prediction:  [1] \n",
      "Initial probablity of target label:  [ 0.95996892]    Final probablity of target label:  [ 0.94183248]\n",
      "\n",
      "Label:  2    Iteration count:  1 \n",
      "Initial prediction:  [2]    Final prediction:  [2] \n",
      "Initial probablity of target label:  [ 0.99043733]    Final probablity of target label:  [ 0.99479216]\n",
      "\n",
      "Label:  3    Iteration count:  1 \n",
      "Initial prediction:  [3]    Final prediction:  [3] \n",
      "Initial probablity of target label:  [ 0.99199426]    Final probablity of target label:  [ 0.99600714]\n",
      "\n",
      "Label:  4    Iteration count:  1 \n",
      "Initial prediction:  [4]    Final prediction:  [4] \n",
      "Initial probablity of target label:  [ 0.98879635]    Final probablity of target label:  [ 0.99426103]\n",
      "\n",
      "Label:  5    Iteration count:  1 \n",
      "Initial prediction:  [5]    Final prediction:  [5] \n",
      "Initial probablity of target label:  [ 0.5836826]    Final probablity of target label:  [ 0.5876478]\n",
      "\n",
      "Label:  6    Iteration count:  1 \n",
      "Initial prediction:  [6]    Final prediction:  [6] \n",
      "Initial probablity of target label:  [ 0.99582738]    Final probablity of target label:  [ 0.99850863]\n",
      "\n",
      "Label:  7    Iteration count:  1 \n",
      "Initial prediction:  [7]    Final prediction:  [7] \n",
      "Initial probablity of target label:  [ 0.99048716]    Final probablity of target label:  [ 0.99407637]\n",
      "\n",
      "Label:  8    Iteration count:  1 \n",
      "Initial prediction:  [8]    Final prediction:  [8] \n",
      "Initial probablity of target label:  [ 0.99144006]    Final probablity of target label:  [ 0.99678963]\n",
      "\n",
      "Label:  9    Iteration count:  1 \n",
      "Initial prediction:  [9]    Final prediction:  [9] \n",
      "Initial probablity of target label:  [ 0.94706219]    Final probablity of target label:  [ 0.95200986]\n",
      "\n",
      "Optimize Finished!\n"
     ]
    }
   ],
   "source": [
    "image_nearest = []\n",
    "image_init = []\n",
    "image_recovered = []\n",
    "rmse_by_label = []\n",
    "\n",
    "# Start training\n",
    "with tf.Session() as sess:\n",
    "    \n",
    "    sess.run(tf.global_variables_initializer())\n",
    "    \n",
    "    if os.path.exists('temp/checkpoint'): \n",
    "        saver.restore(sess, 'temp/trained_model.ckpt')\n",
    "        \n",
    "\n",
    "    for j in range(10):\n",
    "       \n",
    "        # Generate init image that is the average over all training data images has the same label of target\n",
    "        image_old = generate_x(j, 'classmean')\n",
    "        image_init.append(image_old)\n",
    "                               \n",
    "        # Optimaze by gradient descent\n",
    "        image_opt = image_optimizer(image_old,j, 1e-5, True)\n",
    "        \n",
    "        # Calculate rmse and find nearst image in training set\n",
    "        image_rmsei, image_closesti = smallest_rmse(image_opt)\n",
    "        \n",
    "        # Save rmse and nearst image\n",
    "        image_recovered.append(image_opt)\n",
    "        image_nearest.append(image_closesti)\n",
    "        rmse_by_label.append(image_rmsei)\n",
    "        print()\n",
    "    \n",
    "    print('Optimize Finished!')"
   ]
  },
  {
   "cell_type": "code",
   "execution_count": 14,
   "metadata": {},
   "outputs": [
    {
     "name": "stdout",
     "output_type": "stream",
     "text": [
      "Initial image for each class:\n"
     ]
    },
    {
     "data": {
      "image/png": "[encoded data removed]",
      "text/plain": [
       "<matplotlib.figure.Figure at 0x19a7767d208>"
      ]
     },
     "metadata": {},
     "output_type": "display_data"
    },
    {
     "name": "stdout",
     "output_type": "stream",
     "text": [
      "Image recovered for each label: \n"
     ]
    },
    {
     "data": {
      "image/png": "[encoded data removed]",
      "text/plain": [
       "<matplotlib.figure.Figure at 0x19bd41d82b0>"
      ]
     },
     "metadata": {},
     "output_type": "display_data"
    },
    {
     "name": "stdout",
     "output_type": "stream",
     "text": [
      "RMSE for each recovered image:\n",
      "['0.31', '0.13', '0.19', '0.17', '0.17', '0.18', '0.18', '0.15', '0.19', '0.16']\n",
      "\n",
      "Final error:  0.183498833561\n"
     ]
    }
   ],
   "source": [
    "print('Initial image for each class:')\n",
    "plot_image(image_init)\n",
    "result_eva(rmse_by_label, image_nearest, image_recovered)"
   ]
  },
  {
   "cell_type": "markdown",
   "metadata": {},
   "source": [
    "## 4.\tDifferentially Private Training"
   ]
  },
  {
   "cell_type": "code",
   "execution_count": 15,
   "metadata": {},
   "outputs": [
    {
     "name": "stdout",
     "output_type": "stream",
     "text": [
      "INFO:tensorflow:Restoring parameters from temp/trained_model.ckpt\n",
      "Lambda: 0.01 Accuracy: 0.914667\n",
      "Model named ./temp/new_model_0.ckpt saved!\n",
      "\n",
      "Lambda: 0.1 Accuracy: 0.905333\n",
      "Model named ./temp/new_model_1.ckpt saved!\n",
      "\n",
      "Lambda: 0.5 Accuracy: 0.452\n",
      "Model named ./temp/new_model_2.ckpt saved!\n",
      "\n",
      "Lambda: 1 Accuracy: 0.234667\n",
      "Model named ./temp/new_model_3.ckpt saved!\n",
      "\n"
     ]
    }
   ],
   "source": [
    "import os\n",
    "\n",
    "scales = [0.01,0.1,0.5,1]\n",
    "acc = []\n",
    "\n",
    "lamboda_w1 = []\n",
    "lamboda_w3 = []\n",
    "\n",
    "with tf.Session() as sess:\n",
    "    \n",
    "    sess.run(tf.global_variables_initializer())\n",
    "    \n",
    "    if os.path.exists('temp/checkpoint'): \n",
    "        saver.restore(sess, 'temp/trained_model.ckpt')  \n",
    "        \n",
    "    w3 = np.array(W3.eval())\n",
    "    \n",
    "    for n, scale in enumerate(scales):\n",
    "        noise_W1 = np.random.laplace(loc=0, scale=scale, size=(784,300))\n",
    "        \n",
    "        std_W3 = np.std(w3)\n",
    "        noise_W3 = np.random.laplace(loc=0, scale=scale*std_W3, size=(300,10))\n",
    "        \n",
    "        sess.run(tf.assign(W1, W1 + noise_W1))\n",
    "        sess.run(tf.assign(W3, W3 + noise_W3))\n",
    "        \n",
    "        lamboda_w1.append(scale)\n",
    "        lamboda_w3.append(scale*std_W3)\n",
    "    \n",
    "    # Test model\n",
    "        correct_prediction = tf.equal(tf.argmax(pred, 1), tf.argmax(y, 1))\n",
    "        # Calculate accuracy for 3000 examples; you should get roughly ~90% accuracy although it might vary from run to run\n",
    "        accuracy = tf.reduce_mean(tf.cast(correct_prediction, tf.float32))\n",
    "        acci = accuracy.eval({x: mnist.test.images[:3000], \n",
    "                              y: mnist.test.labels[:3000]},\n",
    "                             session=sess)\n",
    "        \n",
    "        acc.append(acci)\n",
    "        \n",
    "        # Print Results\n",
    "        print (\"Lambda:\", \n",
    "               scale,\n",
    "               \"Accuracy:\", \n",
    "              acci)\n",
    "        \n",
    "        model_name = './temp/new_model_'+str(n)+'.ckpt'\n",
    "            \n",
    "        #Save the model\n",
    "        saver.save(sess, model_name)\n",
    "        print(\"Model named \" + model_name+\" saved!\\n\")"
   ]
  },
  {
   "cell_type": "code",
   "execution_count": 16,
   "metadata": {},
   "outputs": [
    {
     "name": "stdout",
     "output_type": "stream",
     "text": [
      "INFO:tensorflow:Restoring parameters from ./temp/new_model_0.ckpt\n",
      "Optimize Finished for alpha:  0.01\n",
      "INFO:tensorflow:Restoring parameters from ./temp/new_model_1.ckpt\n",
      "Optimize Finished for alpha:  0.1\n",
      "INFO:tensorflow:Restoring parameters from ./temp/new_model_2.ckpt\n",
      "Optimize Finished for alpha:  0.5\n",
      "INFO:tensorflow:Restoring parameters from ./temp/new_model_3.ckpt\n",
      "Optimize Finished for alpha:  1\n"
     ]
    }
   ],
   "source": [
    "# Start training\n",
    "rmse_by_lambda = []\n",
    "\n",
    "with tf.Session() as sess:\n",
    "    sess.run(tf.global_variables_initializer())\n",
    "    \n",
    "    for n, scale in enumerate(scales):\n",
    "\n",
    "        image_nearest = []\n",
    "        image_init = []\n",
    "        image_recovered = []\n",
    "        rmse_by_label = []\n",
    "        \n",
    "        #Load the saved model\n",
    "        if os.path.exists('temp/checkpoint'): \n",
    "            name = './temp/new_model_'+str(n)+'.ckpt'\n",
    "            saver.restore(sess, name)\n",
    "            \n",
    "            # AM attack\n",
    "            for j in range(10):\n",
    "\n",
    "                # Generate init image that is the average over all training data images has the same label of target\n",
    "                image_old = generate_x(j, 'classmean')\n",
    "                image_init.append(image_old)\n",
    "\n",
    "                # Optimaze by gradient descent\n",
    "                image_opt = image_optimizer(image_old,j, 1e-5, False)\n",
    "\n",
    "                # Calculate rmse and find nearst image in training set\n",
    "                image_rmsei, image_closesti = smallest_rmse(image_opt)\n",
    "\n",
    "                # Save rmse and nearst image\n",
    "                image_recovered.append(image_opt)\n",
    "                image_nearest.append(image_closesti)\n",
    "                rmse_by_label.append(image_rmsei)\n",
    "        \n",
    "        rmse_by_lambda.append(np.mean(rmse_by_label))\n",
    "        print('Optimize Finished for alpha: ', scale)"
   ]
  },
  {
   "cell_type": "markdown",
   "metadata": {},
   "source": [
    "Showing the result in table."
   ]
  },
  {
   "cell_type": "code",
   "execution_count": 18,
   "metadata": {},
   "outputs": [
    {
     "data": {
      "text/html": [
       "<div>\n",
       "<style>\n",
       "    .dataframe thead tr:only-child th {\n",
       "        text-align: right;\n",
       "    }\n",
       "\n",
       "    .dataframe thead th {\n",
       "        text-align: left;\n",
       "    }\n",
       "\n",
       "    .dataframe tbody tr th {\n",
       "        vertical-align: top;\n",
       "    }\n",
       "</style>\n",
       "<table border=\"1\" class=\"dataframe\">\n",
       "  <thead>\n",
       "    <tr style=\"text-align: right;\">\n",
       "      <th></th>\n",
       "      <th>Accuracy</th>\n",
       "      <th>RMSE</th>\n",
       "      <th>W1 Lambda</th>\n",
       "      <th>W3 Lambda</th>\n",
       "    </tr>\n",
       "    <tr>\n",
       "      <th>Alpha</th>\n",
       "      <th></th>\n",
       "      <th></th>\n",
       "      <th></th>\n",
       "      <th></th>\n",
       "    </tr>\n",
       "  </thead>\n",
       "  <tbody>\n",
       "    <tr>\n",
       "      <th>0.01</th>\n",
       "      <td>0.914667</td>\n",
       "      <td>0.184212</td>\n",
       "      <td>0.01</td>\n",
       "      <td>0.000270</td>\n",
       "    </tr>\n",
       "    <tr>\n",
       "      <th>0.10</th>\n",
       "      <td>0.905333</td>\n",
       "      <td>0.178094</td>\n",
       "      <td>0.10</td>\n",
       "      <td>0.002703</td>\n",
       "    </tr>\n",
       "    <tr>\n",
       "      <th>0.50</th>\n",
       "      <td>0.452000</td>\n",
       "      <td>0.175666</td>\n",
       "      <td>0.50</td>\n",
       "      <td>0.013517</td>\n",
       "    </tr>\n",
       "    <tr>\n",
       "      <th>1.00</th>\n",
       "      <td>0.234667</td>\n",
       "      <td>0.192974</td>\n",
       "      <td>1.00</td>\n",
       "      <td>0.027035</td>\n",
       "    </tr>\n",
       "  </tbody>\n",
       "</table>\n",
       "</div>"
      ],
      "text/plain": [
       "       Accuracy      RMSE  W1 Lambda  W3 Lambda\n",
       "Alpha                                          \n",
       "0.01   0.914667  0.184212       0.01   0.000270\n",
       "0.10   0.905333  0.178094       0.10   0.002703\n",
       "0.50   0.452000  0.175666       0.50   0.013517\n",
       "1.00   0.234667  0.192974       1.00   0.027035"
      ]
     },
     "execution_count": 18,
     "metadata": {},
     "output_type": "execute_result"
    }
   ],
   "source": [
    "import pandas as pd\n",
    "\n",
    "d = {'W1 Lambda': lamboda_w1,\n",
    "    'W3 Lambda': lamboda_w3,\n",
    "    'Accuracy': acc,\n",
    "     'RMSE': rmse_by_lambda}\n",
    "df = pd.DataFrame(data=d)\n",
    "df.index = scales\n",
    "df.index.name = 'Alpha'\n",
    "\n",
    "df.head()"
   ]
  },
  {
   "cell_type": "code",
   "execution_count": null,
   "metadata": {},
   "outputs": [],
   "source": []
  }
 ],
 "metadata": {
  "kernelspec": {
   "display_name": "Python 3",
   "language": "python",
   "name": "python3"
  },
  "language_info": {
   "codemirror_mode": {
    "name": "ipython",
    "version": 3
   },
   "file_extension": ".py",
   "mimetype": "text/x-python",
   "name": "python",
   "nbconvert_exporter": "python",
   "pygments_lexer": "ipython3",
   "version": "3.6.1"
  }
 },
 "nbformat": 4,
 "nbformat_minor": 2
}
